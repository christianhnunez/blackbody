{
 "cells": [
  {
   "cell_type": "markdown",
   "metadata": {},
   "source": [
    "## Blackbody Lab | Christian H. Nunez & Guillermo ___ "
   ]
  },
  {
   "cell_type": "markdown",
   "metadata": {},
   "source": [
    "Measuring the filament surface area:"
   ]
  },
  {
   "cell_type": "code",
   "execution_count": 48,
   "metadata": {},
   "outputs": [],
   "source": [
    "from __future__ import print_function, division\n",
    "import pandas as pd\n",
    "import numpy as np\n",
    "import matplotlib.pyplot as plt\n",
    "from scipy.optimize import curve_fit"
   ]
  },
  {
   "cell_type": "markdown",
   "metadata": {},
   "source": [
    "Magnified length: 5.2cm +/- 0.05 cm\n",
    "Magnified diameter: 1.5cm +/- 0.05 cm\n",
    "d0 = (142.5 +/- 0.2 cm) - (137.65 +/- 0.05 cm)\n",
    "d1 = (137.65 +/- 0.05 cm) - (60.25 +/- 0.05 cm)"
   ]
  },
  {
   "cell_type": "markdown",
   "metadata": {},
   "source": [
    "Procedure:\n",
    "(1) Use simplified intensity equation, inputting P = sigma A T^4 solved for T.\n",
    "(2) Plot lnI vs. 1/T for linear curve\n",
    "(3) Vary P, see whether Iv varies as expected\n",
    "(4) Note, we are keeping frequency constant because of the filter"
   ]
  },
  {
   "cell_type": "code",
   "execution_count": 68,
   "metadata": {},
   "outputs": [],
   "source": [
    "# Remember, pass in MAGNIFIED w, diam.\n",
    "def getSurfaceArea(w, diam, d0, d1):\n",
    "    M = d1/d0\n",
    "    w = w/M\n",
    "    diam = diam/M\n",
    "    return np.pi * w * diam;\n",
    "\n",
    "# Define constants:\n",
    "N = 1.38*10**(-23)\n",
    "h = 6.626*10**(-34)\n",
    "lambda_filter = 546.1 * 10**(-9) # m\n",
    "v = 299792458 / lambda_filter # Hz\n",
    "kb = 1.38064852 * 10**(-23) # m^2 * kg * s^-2 K^-1\n",
    "sigma = 5.67 * 10**(-8) # W * * m * K^-4\n",
    "A = getSurfaceArea(.052, .015, (1.425 - 1.3765), (1.3765 - .6025))\n",
    "\n",
    "def intensity(T):\n",
    "    return N * v**3 * np.exp(((-h*v)/(kb*T)))\n",
    "\n",
    "def temperature(power):\n",
    "    return (power/(sigma * A))**(1/4)"
   ]
  },
  {
   "cell_type": "code",
   "execution_count": 69,
   "metadata": {},
   "outputs": [
    {
     "data": {
      "text/html": [
       "<div>\n",
       "<style scoped>\n",
       "    .dataframe tbody tr th:only-of-type {\n",
       "        vertical-align: middle;\n",
       "    }\n",
       "\n",
       "    .dataframe tbody tr th {\n",
       "        vertical-align: top;\n",
       "    }\n",
       "\n",
       "    .dataframe thead th {\n",
       "        text-align: right;\n",
       "    }\n",
       "</style>\n",
       "<table border=\"1\" class=\"dataframe\">\n",
       "  <thead>\n",
       "    <tr style=\"text-align: right;\">\n",
       "      <th></th>\n",
       "      <th>Intensity</th>\n",
       "      <th>Power</th>\n",
       "      <th>Temperature</th>\n",
       "      <th>lnIntensity</th>\n",
       "    </tr>\n",
       "  </thead>\n",
       "  <tbody>\n",
       "    <tr>\n",
       "      <th>0</th>\n",
       "      <td>1.260000e-09</td>\n",
       "      <td>1.680</td>\n",
       "      <td>1324.707661</td>\n",
       "      <td>-20.492154</td>\n",
       "    </tr>\n",
       "    <tr>\n",
       "      <th>1</th>\n",
       "      <td>7.700000e-09</td>\n",
       "      <td>2.592</td>\n",
       "      <td>1476.391298</td>\n",
       "      <td>-18.682046</td>\n",
       "    </tr>\n",
       "    <tr>\n",
       "      <th>2</th>\n",
       "      <td>2.760000e-08</td>\n",
       "      <td>3.510</td>\n",
       "      <td>1592.646922</td>\n",
       "      <td>-17.405450</td>\n",
       "    </tr>\n",
       "    <tr>\n",
       "      <th>3</th>\n",
       "      <td>8.620000e-08</td>\n",
       "      <td>4.900</td>\n",
       "      <td>1731.178092</td>\n",
       "      <td>-16.266596</td>\n",
       "    </tr>\n",
       "    <tr>\n",
       "      <th>4</th>\n",
       "      <td>2.120000e-07</td>\n",
       "      <td>6.549</td>\n",
       "      <td>1861.386137</td>\n",
       "      <td>-15.366680</td>\n",
       "    </tr>\n",
       "    <tr>\n",
       "      <th>5</th>\n",
       "      <td>4.140000e-07</td>\n",
       "      <td>8.160</td>\n",
       "      <td>1966.596524</td>\n",
       "      <td>-14.697400</td>\n",
       "    </tr>\n",
       "    <tr>\n",
       "      <th>6</th>\n",
       "      <td>7.840000e-07</td>\n",
       "      <td>10.270</td>\n",
       "      <td>2082.981143</td>\n",
       "      <td>-14.058857</td>\n",
       "    </tr>\n",
       "    <tr>\n",
       "      <th>7</th>\n",
       "      <td>1.371000e-06</td>\n",
       "      <td>12.880</td>\n",
       "      <td>2204.305038</td>\n",
       "      <td>-13.499970</td>\n",
       "    </tr>\n",
       "    <tr>\n",
       "      <th>8</th>\n",
       "      <td>2.210000e-06</td>\n",
       "      <td>15.750</td>\n",
       "      <td>2317.996986</td>\n",
       "      <td>-13.022518</td>\n",
       "    </tr>\n",
       "    <tr>\n",
       "      <th>9</th>\n",
       "      <td>3.330000e-06</td>\n",
       "      <td>18.880</td>\n",
       "      <td>2425.455019</td>\n",
       "      <td>-12.612538</td>\n",
       "    </tr>\n",
       "  </tbody>\n",
       "</table>\n",
       "</div>"
      ],
      "text/plain": [
       "      Intensity   Power  Temperature  lnIntensity\n",
       "0  1.260000e-09   1.680  1324.707661   -20.492154\n",
       "1  7.700000e-09   2.592  1476.391298   -18.682046\n",
       "2  2.760000e-08   3.510  1592.646922   -17.405450\n",
       "3  8.620000e-08   4.900  1731.178092   -16.266596\n",
       "4  2.120000e-07   6.549  1861.386137   -15.366680\n",
       "5  4.140000e-07   8.160  1966.596524   -14.697400\n",
       "6  7.840000e-07  10.270  2082.981143   -14.058857\n",
       "7  1.371000e-06  12.880  2204.305038   -13.499970\n",
       "8  2.210000e-06  15.750  2317.996986   -13.022518\n",
       "9  3.330000e-06  18.880  2425.455019   -12.612538"
      ]
     },
     "execution_count": 69,
     "metadata": {},
     "output_type": "execute_result"
    }
   ],
   "source": [
    "# Storing data with named columns \n",
    "d = {'Power' : [(2.4 * .7), (3.2 * .81), (3.9 * .9), (4.9), (1.11 * 5.9), (1.2 * 6.8), (1.3 * 7.9), (1.4 * 9.2),\n",
    "               (1.5 * 10.5), (1.6 * 11.8)], \n",
    "     'Intensity' : [(1.26 * 10**(-9)), (7.7 * 10**(-9)), (27.6 * 10**(-9)), (86.2 * 10**(-9)), (.212 * 10**(-6)), \n",
    "                    (.414 * 10**(-6)), (.784 * 10**(-6)), (1.371 * 10**(-6)), (2.21 * 10**(-6)), (3.33 * 10**(-6))],\n",
    "    'Temperature' : temperature(df.Power),\n",
    "    'lnIntensity' : np.log(df.Intensity)}\n",
    "df = pd.DataFrame(d)\n",
    "df"
   ]
  },
  {
   "cell_type": "markdown",
   "metadata": {},
   "source": [
    "Things to remember:\n",
    "(1) Zeroing of the ammeter\n",
    "(2) We are collecting the same patch of intensity on the intensity sphere for each measurement"
   ]
  },
  {
   "cell_type": "code",
   "execution_count": 70,
   "metadata": {},
   "outputs": [
    {
     "name": "stdout",
     "output_type": "stream",
     "text": [
      "[-2.30081113e+04 -3.04591215e+00]\n"
     ]
    },
    {
     "data": {
      "image/png": "[encoded data removed]",
      "text/plain": [
       "<matplotlib.figure.Figure at 0x151cc36f90>"
      ]
     },
     "metadata": {},
     "output_type": "display_data"
    },
    {
     "name": "stdout",
     "output_type": "stream",
     "text": [
      "[-2.30081113e+04 -3.04591215e+00]\n"
     ]
    }
   ],
   "source": [
    "# Curve fitting:\n",
    "def linear(x, m, b):\n",
    "    return m*x + b\n",
    "\n",
    "# Define x,y\n",
    "x = 1/df.Temperature\n",
    "y = df.lnIntensity\n",
    "\n",
    "# Curve fit\n",
    "params, cov = curve_fit(linear, x, y)\n",
    "print(params)\n",
    "\n",
    "\n",
    "# Make plot\n",
    "plt.plot(x, linear(x, *params), \"k--\", label=\"fit\")\n",
    "plt.plot(1/df.Temperature, df.lnIntensity, \"o\", label=\"data\")\n",
    "plt.legend()\n",
    "plt.show()\n",
    "print(params)"
   ]
  },
  {
   "cell_type": "code",
   "execution_count": 71,
   "metadata": {},
   "outputs": [
    {
     "name": "stdout",
     "output_type": "stream",
     "text": [
      "The calculated h:  5.786494905839587e-34\n"
     ]
    }
   ],
   "source": [
    "def getPlancksConstant(slope):\n",
    "    print(\"The calculated h: \", (-slope * kb)/v)\n",
    "\n",
    "getPlancksConstant(params[0])"
   ]
  },
  {
   "cell_type": "code",
   "execution_count": null,
   "metadata": {},
   "outputs": [],
   "source": []
  },
  {
   "cell_type": "code",
   "execution_count": null,
   "metadata": {},
   "outputs": [],
   "source": []
  }
 ],
 "metadata": {
  "kernelspec": {
   "display_name": "Python 2",
   "language": "python",
   "name": "python2"
  },
  "language_info": {
   "codemirror_mode": {
    "name": "ipython",
    "version": 2
   },
   "file_extension": ".py",
   "mimetype": "text/x-python",
   "name": "python",
   "nbconvert_exporter": "python",
   "pygments_lexer": "ipython2",
   "version": "2.7.14"
  }
 },
 "nbformat": 4,
 "nbformat_minor": 2
}
