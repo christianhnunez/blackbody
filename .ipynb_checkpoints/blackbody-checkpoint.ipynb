{
 "cells": [
  {
   "cell_type": "markdown",
   "metadata": {},
   "source": [
    "## Blackbody Lab | Christian H. Nunez"
   ]
  },
  {
   "cell_type": "markdown",
   "metadata": {},
   "source": [
    "Measuring the filament surface area:"
   ]
  },
  {
   "cell_type": "code",
   "execution_count": 2,
   "metadata": {},
   "outputs": [],
   "source": [
    "from __future__ import print_function, division\n",
    "import pandas as pd\n",
    "import numpy as np\n",
    "import matplotlib.pyplot as plt\n",
    "from scipy.optimize import curve_fit\n",
    "from scipy import stats"
   ]
  },
  {
   "cell_type": "markdown",
   "metadata": {},
   "source": [
    "Magnified length: 5.2cm +/- 0.05 cm\n",
    "Magnified diameter: 1.5cm +/- 0.05 cm\n",
    "d0 = (142.5 +/- 0.2 cm) - (137.65 +/- 0.05 cm)\n",
    "d1 = (137.65 +/- 0.05 cm) - (60.25 +/- 0.05 cm)"
   ]
  },
  {
   "cell_type": "markdown",
   "metadata": {},
   "source": [
    "Procedure:\n",
    "(1) Use simplified intensity equation, inputting P = sigma A T^4 solved for T.\n",
    "(2) Plot lnI vs. 1/T for linear curve\n",
    "(3) Vary P, see whether Iv varies as expected\n",
    "(4) Note, we are keeping frequency constant because of the filter"
   ]
  },
  {
   "cell_type": "code",
   "execution_count": 11,
   "metadata": {},
   "outputs": [],
   "source": [
    "# Remember, pass in MAGNIFIED w, diam.\n",
    "def getSurfaceArea(w, diam, d0, d1, type=0):\n",
    "    M = d1/d0\n",
    "    w = w/M\n",
    "    diam = diam/M\n",
    "    if(type == 0):\n",
    "        # Cylinder\n",
    "        return (np.pi * w * diam)\n",
    "    elif type == 1:\n",
    "        # Hollow cylinder with Rout -> Rin\n",
    "        return 2*(np.pi * w * diam), w, diam, (5*10**(-4))/M\n",
    "    elif type == 2:\n",
    "        # Rectangle (naive)\n",
    "        return w * diam\n",
    "        \n",
    "\n",
    "# Define constants:\n",
    "N = 1.38*10**(-23)\n",
    "h = 6.626*10**(-34)\n",
    "lambda_filter = 546.1 * 10**(-9) # m\n",
    "v = 299792458 / lambda_filter # Hz\n",
    "kb = 1.38064852 * 10**(-23) # m^2 * kg * s^-2 K^-1\n",
    "sigma = 5.67 * 10**(-8) # W * * m * K^-4\n",
    "#A = getSurfaceArea(.052, .015, (1.425 - 1.3765), (1.3765 - .6025), type=0)\n",
    "A = 1.1705503383239908e-05\n",
    "def intensity(T):\n",
    "    return N * v**3 * np.exp(((-h*v)/(kb*T)))\n",
    "\n",
    "def temperature(power):\n",
    "    return (power/(1 * sigma * A))**(1/4)\n"
   ]
  },
  {
   "cell_type": "code",
   "execution_count": 12,
   "metadata": {},
   "outputs": [
    {
     "data": {
      "text/html": [
       "<div>\n",
       "<style scoped>\n",
       "    .dataframe tbody tr th:only-of-type {\n",
       "        vertical-align: middle;\n",
       "    }\n",
       "\n",
       "    .dataframe tbody tr th {\n",
       "        vertical-align: top;\n",
       "    }\n",
       "\n",
       "    .dataframe thead th {\n",
       "        text-align: right;\n",
       "    }\n",
       "</style>\n",
       "<table border=\"1\" class=\"dataframe\">\n",
       "  <thead>\n",
       "    <tr style=\"text-align: right;\">\n",
       "      <th></th>\n",
       "      <th>Intensity</th>\n",
       "      <th>Power</th>\n",
       "      <th>Temperature</th>\n",
       "      <th>lnIntensity</th>\n",
       "      <th>1/Temperature</th>\n",
       "    </tr>\n",
       "  </thead>\n",
       "  <tbody>\n",
       "    <tr>\n",
       "      <th>0</th>\n",
       "      <td>1.260000e-09</td>\n",
       "      <td>1.680</td>\n",
       "      <td>1261.345412</td>\n",
       "      <td>-20.492154</td>\n",
       "      <td>0.000793</td>\n",
       "    </tr>\n",
       "    <tr>\n",
       "      <th>1</th>\n",
       "      <td>7.700000e-09</td>\n",
       "      <td>2.592</td>\n",
       "      <td>1405.773852</td>\n",
       "      <td>-18.682046</td>\n",
       "      <td>0.000711</td>\n",
       "    </tr>\n",
       "    <tr>\n",
       "      <th>2</th>\n",
       "      <td>2.760000e-08</td>\n",
       "      <td>3.510</td>\n",
       "      <td>1516.468839</td>\n",
       "      <td>-17.405450</td>\n",
       "      <td>0.000659</td>\n",
       "    </tr>\n",
       "    <tr>\n",
       "      <th>3</th>\n",
       "      <td>8.620000e-08</td>\n",
       "      <td>4.900</td>\n",
       "      <td>1648.373908</td>\n",
       "      <td>-16.266596</td>\n",
       "      <td>0.000607</td>\n",
       "    </tr>\n",
       "    <tr>\n",
       "      <th>4</th>\n",
       "      <td>2.120000e-07</td>\n",
       "      <td>6.549</td>\n",
       "      <td>1772.353957</td>\n",
       "      <td>-15.366680</td>\n",
       "      <td>0.000564</td>\n",
       "    </tr>\n",
       "    <tr>\n",
       "      <th>5</th>\n",
       "      <td>4.140000e-07</td>\n",
       "      <td>8.160</td>\n",
       "      <td>1872.532013</td>\n",
       "      <td>-14.697400</td>\n",
       "      <td>0.000534</td>\n",
       "    </tr>\n",
       "    <tr>\n",
       "      <th>6</th>\n",
       "      <td>7.840000e-07</td>\n",
       "      <td>10.270</td>\n",
       "      <td>1983.349826</td>\n",
       "      <td>-14.058857</td>\n",
       "      <td>0.000504</td>\n",
       "    </tr>\n",
       "    <tr>\n",
       "      <th>7</th>\n",
       "      <td>1.371000e-06</td>\n",
       "      <td>12.880</td>\n",
       "      <td>2098.870663</td>\n",
       "      <td>-13.499970</td>\n",
       "      <td>0.000476</td>\n",
       "    </tr>\n",
       "    <tr>\n",
       "      <th>8</th>\n",
       "      <td>2.210000e-06</td>\n",
       "      <td>15.750</td>\n",
       "      <td>2207.124599</td>\n",
       "      <td>-13.022518</td>\n",
       "      <td>0.000453</td>\n",
       "    </tr>\n",
       "    <tr>\n",
       "      <th>9</th>\n",
       "      <td>3.330000e-06</td>\n",
       "      <td>18.880</td>\n",
       "      <td>2309.442794</td>\n",
       "      <td>-12.612538</td>\n",
       "      <td>0.000433</td>\n",
       "    </tr>\n",
       "  </tbody>\n",
       "</table>\n",
       "</div>"
      ],
      "text/plain": [
       "      Intensity   Power  Temperature  lnIntensity  1/Temperature\n",
       "0  1.260000e-09   1.680  1261.345412   -20.492154       0.000793\n",
       "1  7.700000e-09   2.592  1405.773852   -18.682046       0.000711\n",
       "2  2.760000e-08   3.510  1516.468839   -17.405450       0.000659\n",
       "3  8.620000e-08   4.900  1648.373908   -16.266596       0.000607\n",
       "4  2.120000e-07   6.549  1772.353957   -15.366680       0.000564\n",
       "5  4.140000e-07   8.160  1872.532013   -14.697400       0.000534\n",
       "6  7.840000e-07  10.270  1983.349826   -14.058857       0.000504\n",
       "7  1.371000e-06  12.880  2098.870663   -13.499970       0.000476\n",
       "8  2.210000e-06  15.750  2207.124599   -13.022518       0.000453\n",
       "9  3.330000e-06  18.880  2309.442794   -12.612538       0.000433"
      ]
     },
     "execution_count": 12,
     "metadata": {},
     "output_type": "execute_result"
    }
   ],
   "source": [
    "# Storing data with named columns \n",
    "d = {'Power' : [(2.4 * .7), (3.2 * .81), (3.9 * .9), (4.9), (1.11 * 5.9), (1.2 * 6.8), (1.3 * 7.9), (1.4 * 9.2),\n",
    "               (1.5 * 10.5), (1.6 * 11.8)], \n",
    "        'Intensity' : [(1.26 * 10**(-9)), (7.7 * 10**(-9)), (27.6 * 10**(-9)), (86.2 * 10**(-9)), (.212 * 10**(-6)), \n",
    "                    (.414 * 10**(-6)), (.784 * 10**(-6)), (1.371 * 10**(-6)), (2.21 * 10**(-6)), (3.33 * 10**(-6))]}\n",
    "df = pd.DataFrame(d)\n",
    "\n",
    "# Derived values\n",
    "df['Temperature'] = temperature(df.Power)\n",
    "df['lnIntensity'] = np.log(df.Intensity)\n",
    "df['1/Temperature'] = 1/df.Temperature\n",
    "\n",
    "df"
   ]
  },
  {
   "cell_type": "markdown",
   "metadata": {},
   "source": [
    "Things to remember:\n",
    "(1) Zeroing of the ammeter\n",
    "(2) We are collecting the same patch of intensity on the intensity sphere for each measurement"
   ]
  },
  {
   "cell_type": "code",
   "execution_count": 13,
   "metadata": {},
   "outputs": [
    {
     "name": "stdout",
     "output_type": "stream",
     "text": [
      "[-2.19076076e+04 -3.04591215e+00]\n"
     ]
    }
   ],
   "source": [
    "# For future use:\n",
    "def getPlancksConstant(slope):\n",
    "    return (-slope * kb)/v\n",
    "\n",
    "# Curve fitting:\n",
    "def linear(x, m, b):\n",
    "    return m*x + b\n",
    "\n",
    "# Define x,y\n",
    "x = 1/df.Temperature\n",
    "y = df.lnIntensity\n",
    "\n",
    "# Curve fit\n",
    "params, cov = curve_fit(linear, x, y)\n",
    "print(params)\n",
    "\n",
    "\n",
    "# Make plot\n",
    "# fitLabel = \"fit, h = \" + str(getPlancksConstant(params[0]))\n",
    "# plt.plot(x, linear(x, *params), \"k--\", label=fitLabel)\n",
    "# plt.plot(1/df.Temperature, df.lnIntensity, \"o\", label=\"data\")\n",
    "# plt.legend()\n",
    "# plt.title(\"ln(Intensity) vs 1/Temperature\")\n",
    "# plt.xlabel(\"1/(Temperature (K))\")\n",
    "# plt.ylabel(\"ln[Intensity (W/m^2)]\")\n",
    "# plt.show()"
   ]
  },
  {
   "cell_type": "code",
   "execution_count": 14,
   "metadata": {},
   "outputs": [
    {
     "name": "stdout",
     "output_type": "stream",
     "text": [
      "The calculated h:  5.509720383724954e-34\n"
     ]
    }
   ],
   "source": [
    "calcH = getPlancksConstant(params[0])\n",
    "print(\"The calculated h: \", calcH)"
   ]
  },
  {
   "cell_type": "code",
   "execution_count": 15,
   "metadata": {},
   "outputs": [
    {
     "data": {
      "image/png": "[encoded data removed]",
      "text/plain": [
       "<matplotlib.figure.Figure at 0x10f1e9c50>"
      ]
     },
     "metadata": {},
     "output_type": "display_data"
    },
    {
     "name": "stdout",
     "output_type": "stream",
     "text": [
      "slope:  -21907.60763917599\n",
      "std_err:  187.86930705989846\n",
      "error in h:\n",
      "4.724876255399753e-36\n"
     ]
    }
   ],
   "source": [
    "# Using scipy.stats.linregress for a check on the slope and uncertainty\n",
    "slope, intercept, r_value, p_value, std_err = stats.linregress(x, y)\n",
    "plt.plot(x, y, 'o', label='data')\n",
    "plt.plot(x, intercept + slope*x, 'k--', label='fit')\n",
    "plt.legend()\n",
    "plt.title(\"ln(Intensity) vs 1/Temperature\")\n",
    "plt.xlabel(\"1/(Temperature (K))\")\n",
    "plt.ylabel(\"ln[Intensity (W/m^2)]\")\n",
    "plt.show()\n",
    "print(\"slope: \", slope)\n",
    "print(\"std_err: \", std_err)\n",
    "print(\"error in h:\")\n",
    "print(np.sqrt(std_err**2 * (kb/v)**2))"
   ]
  },
  {
   "cell_type": "code",
   "execution_count": null,
   "metadata": {},
   "outputs": [],
   "source": []
  },
  {
   "cell_type": "markdown",
   "metadata": {},
   "source": [
    "# Questionable stuff below:"
   ]
  },
  {
   "cell_type": "code",
   "execution_count": 317,
   "metadata": {},
   "outputs": [],
   "source": [
    "def delta(xArray):\n",
    "    nelem = len(xArray)\n",
    "    return (nelem*np.sum((xArray**2)) - (np.sum(xArray))**2)\n",
    "\n",
    "def commonUncertainty(xArray, yArray, slope, intercept):\n",
    "    nelem = len(xArray)\n",
    "    return (np.sqrt((1/(nelem-2)) * np.sum((yArray - slope*xArray - intercept)**2)))\n",
    "\n",
    "def slopeError(commonUncertainty, xArray, delta):\n",
    "    nelem=len(xArray)\n",
    "    return (commonUncertainty * np.sqrt(nelem/delta))"
   ]
  },
  {
   "cell_type": "code",
   "execution_count": 295,
   "metadata": {
    "scrolled": true
   },
   "outputs": [
    {
     "name": "stdout",
     "output_type": "stream",
     "text": [
      "The uncertainty of the slope is: \n",
      "202.57284245396355\n"
     ]
    }
   ],
   "source": [
    "reciprocalTemp = 1/df.Temperature\n",
    "logInt = df.lnIntensity\n",
    "\n",
    "# Calculating the uncertainty of the slope\n",
    "print(\"The uncertainty of the slope is: \")\n",
    "cu = commonUncertainty(reciprocalTemp, logInt, slope, intercept)\n",
    "slopeUnc = slopeError(cu, reciprocalTemp, delta(reciprocalTemp))\n",
    "print(slopeUnc)"
   ]
  },
  {
   "cell_type": "code",
   "execution_count": null,
   "metadata": {},
   "outputs": [],
   "source": []
  },
  {
   "cell_type": "code",
   "execution_count": 298,
   "metadata": {},
   "outputs": [
    {
     "data": {
      "text/plain": [
       "-23622.200029834006"
      ]
     },
     "execution_count": 298,
     "metadata": {},
     "output_type": "execute_result"
    }
   ],
   "source": [
    "def slopeCheck(xArray,yArray,delta):\n",
    "    nelem = len(xArray)\n",
    "    numerator = (nelem * np.sum(xArray * yArray)) - (np.sum(xArray) * np.sum(yArray))\n",
    "    return (numerator/delta)\n",
    "\n",
    "slopeCheck(reciprocalTemp, logInt, delta(reciprocalTemp))"
   ]
  },
  {
   "cell_type": "markdown",
   "metadata": {},
   "source": [
    "\n"
   ]
  },
  {
   "cell_type": "code",
   "execution_count": 299,
   "metadata": {},
   "outputs": [],
   "source": [
    "def alphaRecipT(eps, P):\n",
    "    dfdA = (eps*sigma)/P * 1/4 * ((eps*A*sigma)/P)**(-3/4)\n",
    "    alphaA = 2 * np.pi * np.sqrt((alphaDim**2) * (w**2 + diam**2))\n",
    "    dfdP = (-eps*A*sigma)/(P**2) * 1/4 * ((eps*A*sigma)/P)**(-3/4)\n",
    "    alphaP = 0.1 #0.1 Watts\n",
    "    return np.sqrt((dfdA**2) * (alphaA**2) + (dfdP**2 * alphaP**2))"
   ]
  },
  {
   "cell_type": "code",
   "execution_count": 304,
   "metadata": {},
   "outputs": [
    {
     "name": "stdout",
     "output_type": "stream",
     "text": [
      "1.2664096812846633e-05\n",
      "8.557302080218068e-06\n",
      "3.5232699564450193e-06\n"
     ]
    }
   ],
   "source": [
    "# For the standard error related to the function f = 1/T, we have\n",
    "# the following if epsilon is 0.45\n",
    "print(alphaRecipT(0.45, 1.68))\n",
    "print(alphaRecipT(0.45, 2.592))\n",
    "print(alphaRecipT(0.45, 18.880))"
   ]
  },
  {
   "cell_type": "code",
   "execution_count": 318,
   "metadata": {},
   "outputs": [],
   "source": [
    "#df[\"Alpha(1/T)|including emiss = 0.45\"] = alphaRecipT(0.45, df.Power)"
   ]
  },
  {
   "cell_type": "code",
   "execution_count": 333,
   "metadata": {},
   "outputs": [
    {
     "data": {
      "text/html": [
       "<div>\n",
       "<style scoped>\n",
       "    .dataframe tbody tr th:only-of-type {\n",
       "        vertical-align: middle;\n",
       "    }\n",
       "\n",
       "    .dataframe tbody tr th {\n",
       "        vertical-align: top;\n",
       "    }\n",
       "\n",
       "    .dataframe thead th {\n",
       "        text-align: right;\n",
       "    }\n",
       "</style>\n",
       "<table border=\"1\" class=\"dataframe\">\n",
       "  <thead>\n",
       "    <tr style=\"text-align: right;\">\n",
       "      <th></th>\n",
       "      <th>Intensity</th>\n",
       "      <th>Power</th>\n",
       "      <th>Temperature</th>\n",
       "      <th>lnIntensity</th>\n",
       "      <th>1/Temperature</th>\n",
       "      <th>Alpha(lnI)</th>\n",
       "      <th>Alpha(lnI) | 10^-12</th>\n",
       "      <th>Alpha(lnI) | 10^-15</th>\n",
       "      <th>Alpha(lnI) | 10^-18</th>\n",
       "    </tr>\n",
       "  </thead>\n",
       "  <tbody>\n",
       "    <tr>\n",
       "      <th>0</th>\n",
       "      <td>1.260000e-09</td>\n",
       "      <td>1.680</td>\n",
       "      <td>1113.941923</td>\n",
       "      <td>-20.492154</td>\n",
       "      <td>0.000898</td>\n",
       "      <td>1.023810e-03</td>\n",
       "      <td>1.023810e-03</td>\n",
       "      <td>1.023810e-06</td>\n",
       "      <td>1.023810e-09</td>\n",
       "    </tr>\n",
       "    <tr>\n",
       "      <th>1</th>\n",
       "      <td>7.700000e-09</td>\n",
       "      <td>2.592</td>\n",
       "      <td>1241.492150</td>\n",
       "      <td>-18.682046</td>\n",
       "      <td>0.000805</td>\n",
       "      <td>1.675325e-04</td>\n",
       "      <td>1.675325e-04</td>\n",
       "      <td>1.675325e-07</td>\n",
       "      <td>1.675325e-10</td>\n",
       "    </tr>\n",
       "    <tr>\n",
       "      <th>2</th>\n",
       "      <td>2.760000e-08</td>\n",
       "      <td>3.510</td>\n",
       "      <td>1339.251087</td>\n",
       "      <td>-17.405450</td>\n",
       "      <td>0.000747</td>\n",
       "      <td>4.673913e-05</td>\n",
       "      <td>4.673913e-05</td>\n",
       "      <td>4.673913e-08</td>\n",
       "      <td>4.673913e-11</td>\n",
       "    </tr>\n",
       "    <tr>\n",
       "      <th>3</th>\n",
       "      <td>8.620000e-08</td>\n",
       "      <td>4.900</td>\n",
       "      <td>1455.741452</td>\n",
       "      <td>-16.266596</td>\n",
       "      <td>0.000687</td>\n",
       "      <td>1.496520e-05</td>\n",
       "      <td>1.496520e-05</td>\n",
       "      <td>1.496520e-08</td>\n",
       "      <td>1.496520e-11</td>\n",
       "    </tr>\n",
       "    <tr>\n",
       "      <th>4</th>\n",
       "      <td>2.120000e-07</td>\n",
       "      <td>6.549</td>\n",
       "      <td>1565.232930</td>\n",
       "      <td>-15.366680</td>\n",
       "      <td>0.000639</td>\n",
       "      <td>6.084906e-06</td>\n",
       "      <td>6.084906e-06</td>\n",
       "      <td>6.084906e-09</td>\n",
       "      <td>6.084906e-12</td>\n",
       "    </tr>\n",
       "    <tr>\n",
       "      <th>5</th>\n",
       "      <td>4.140000e-07</td>\n",
       "      <td>8.160</td>\n",
       "      <td>1653.703967</td>\n",
       "      <td>-14.697400</td>\n",
       "      <td>0.000605</td>\n",
       "      <td>3.115942e-06</td>\n",
       "      <td>3.115942e-06</td>\n",
       "      <td>3.115942e-09</td>\n",
       "      <td>3.115942e-12</td>\n",
       "    </tr>\n",
       "    <tr>\n",
       "      <th>6</th>\n",
       "      <td>7.840000e-07</td>\n",
       "      <td>10.270</td>\n",
       "      <td>1751.571376</td>\n",
       "      <td>-14.058857</td>\n",
       "      <td>0.000571</td>\n",
       "      <td>1.645408e-06</td>\n",
       "      <td>1.645408e-06</td>\n",
       "      <td>1.645408e-09</td>\n",
       "      <td>1.645408e-12</td>\n",
       "    </tr>\n",
       "    <tr>\n",
       "      <th>7</th>\n",
       "      <td>1.371000e-06</td>\n",
       "      <td>12.880</td>\n",
       "      <td>1853.592205</td>\n",
       "      <td>-13.499970</td>\n",
       "      <td>0.000539</td>\n",
       "      <td>9.409190e-07</td>\n",
       "      <td>9.409190e-07</td>\n",
       "      <td>9.409190e-10</td>\n",
       "      <td>9.409190e-13</td>\n",
       "    </tr>\n",
       "    <tr>\n",
       "      <th>8</th>\n",
       "      <td>2.210000e-06</td>\n",
       "      <td>15.750</td>\n",
       "      <td>1949.195356</td>\n",
       "      <td>-13.022518</td>\n",
       "      <td>0.000513</td>\n",
       "      <td>5.837104e-07</td>\n",
       "      <td>5.837104e-07</td>\n",
       "      <td>5.837104e-10</td>\n",
       "      <td>5.837104e-13</td>\n",
       "    </tr>\n",
       "    <tr>\n",
       "      <th>9</th>\n",
       "      <td>3.330000e-06</td>\n",
       "      <td>18.880</td>\n",
       "      <td>2039.556431</td>\n",
       "      <td>-12.612538</td>\n",
       "      <td>0.000490</td>\n",
       "      <td>3.873874e-07</td>\n",
       "      <td>3.873874e-07</td>\n",
       "      <td>3.873874e-10</td>\n",
       "      <td>3.873874e-13</td>\n",
       "    </tr>\n",
       "  </tbody>\n",
       "</table>\n",
       "</div>"
      ],
      "text/plain": [
       "      Intensity   Power  Temperature  lnIntensity  1/Temperature  \\\n",
       "0  1.260000e-09   1.680  1113.941923   -20.492154       0.000898   \n",
       "1  7.700000e-09   2.592  1241.492150   -18.682046       0.000805   \n",
       "2  2.760000e-08   3.510  1339.251087   -17.405450       0.000747   \n",
       "3  8.620000e-08   4.900  1455.741452   -16.266596       0.000687   \n",
       "4  2.120000e-07   6.549  1565.232930   -15.366680       0.000639   \n",
       "5  4.140000e-07   8.160  1653.703967   -14.697400       0.000605   \n",
       "6  7.840000e-07  10.270  1751.571376   -14.058857       0.000571   \n",
       "7  1.371000e-06  12.880  1853.592205   -13.499970       0.000539   \n",
       "8  2.210000e-06  15.750  1949.195356   -13.022518       0.000513   \n",
       "9  3.330000e-06  18.880  2039.556431   -12.612538       0.000490   \n",
       "\n",
       "     Alpha(lnI)  Alpha(lnI) | 10^-12  Alpha(lnI) | 10^-15  Alpha(lnI) | 10^-18  \n",
       "0  1.023810e-03         1.023810e-03         1.023810e-06         1.023810e-09  \n",
       "1  1.675325e-04         1.675325e-04         1.675325e-07         1.675325e-10  \n",
       "2  4.673913e-05         4.673913e-05         4.673913e-08         4.673913e-11  \n",
       "3  1.496520e-05         1.496520e-05         1.496520e-08         1.496520e-11  \n",
       "4  6.084906e-06         6.084906e-06         6.084906e-09         6.084906e-12  \n",
       "5  3.115942e-06         3.115942e-06         3.115942e-09         3.115942e-12  \n",
       "6  1.645408e-06         1.645408e-06         1.645408e-09         1.645408e-12  \n",
       "7  9.409190e-07         9.409190e-07         9.409190e-10         9.409190e-13  \n",
       "8  5.837104e-07         5.837104e-07         5.837104e-10         5.837104e-13  \n",
       "9  3.873874e-07         3.873874e-07         3.873874e-10         3.873874e-13  "
      ]
     },
     "execution_count": 333,
     "metadata": {},
     "output_type": "execute_result"
    }
   ],
   "source": [
    "def alphaLnI(alphaI, I):\n",
    "    return alphaI/I\n",
    "\n",
    "alphaIconstant = 1.29 * 10**(-12)\n",
    "df[\"Alpha(lnI) | 10^-12\"] = alphaLnI(1.29 * 10**(-12), df.Intensity)\n",
    "df[\"Alpha(lnI) | 10^-15\"] = alphaLnI(1.29 * 10**(-15), df.Intensity)\n",
    "df[\"Alpha(lnI) | 10^-18\"] = alphaLnI(1.29 * 10**(-18), df.Intensity)\n",
    "\n",
    "df"
   ]
  },
  {
   "cell_type": "code",
   "execution_count": null,
   "metadata": {},
   "outputs": [],
   "source": []
  }
 ],
 "metadata": {
  "kernelspec": {
   "display_name": "Python 2",
   "language": "python",
   "name": "python2"
  },
  "language_info": {
   "codemirror_mode": {
    "name": "ipython",
    "version": 2
   },
   "file_extension": ".py",
   "mimetype": "text/x-python",
   "name": "python",
   "nbconvert_exporter": "python",
   "pygments_lexer": "ipython2",
   "version": "2.7.14"
  }
 },
 "nbformat": 4,
 "nbformat_minor": 2
}
